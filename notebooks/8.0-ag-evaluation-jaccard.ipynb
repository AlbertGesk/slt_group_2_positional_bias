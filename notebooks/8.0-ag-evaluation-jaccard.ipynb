{
 "cells": [
  {
   "metadata": {},
   "cell_type": "markdown",
   "source": [
    "### Evaluation experiments\n",
    "\n",
    "- Jaccard Coefficient: For vocabulary similarities (done)\n",
    "- Positional Spearman's p Correlation Coefficient: Order of shared words could indicate semantic similarities?\n",
    "- Semantic Embedding Similarity?"
   ],
   "id": "59c083d0312a2f59"
  },
  {
   "metadata": {
    "ExecuteTime": {
     "end_time": "2025-07-27T19:14:08.232810Z",
     "start_time": "2025-07-27T19:14:07.066389Z"
    }
   },
   "cell_type": "code",
   "source": [
    "import pandas as pd\n",
    "\n",
    "from slt_positional_bias.dataset import generate_merged_data_frame, sort_data_frame, store_df_as_parquet, load_parquet_as_df, normalize_and_tokenize, jaccard\n",
    "\n",
    "df_name = \"LLM-alias-fast-sample-count-20-1-2025-07-27 21h-08m-09s\"\n",
    "df = load_parquet_as_df(df_name)\n",
    "# df"
   ],
   "id": "57093abc64340dff",
   "outputs": [
    {
     "name": "stderr",
     "output_type": "stream",
     "text": [
      "\u001B[32m2025-07-27 21:14:07.209\u001B[0m | \u001B[1mINFO    \u001B[0m | \u001B[36mslt_positional_bias.config\u001B[0m:\u001B[36m<module>\u001B[0m:\u001B[36m11\u001B[0m - \u001B[1mPROJ_ROOT path is: C:\\Users\\Albert\\Documents\\SLT\\slt_group_2_positional_bias\u001B[0m\n",
      "[nltk_data] Downloading package stopwords to\n",
      "[nltk_data]     C:\\Users\\Albert\\AppData\\Roaming\\nltk_data...\n",
      "[nltk_data]   Package stopwords is already up-to-date!\n"
     ]
    }
   ],
   "execution_count": 1
  },
  {
   "metadata": {
    "ExecuteTime": {
     "end_time": "2025-07-27T19:14:08.863491Z",
     "start_time": "2025-07-27T19:14:08.245414Z"
    }
   },
   "cell_type": "code",
   "source": [
    "df['jaccard'] = df.apply(lambda row: jaccard(row['oracle'], row['answer']), axis=1)\n",
    "df"
   ],
   "id": "c3631939c03330a",
   "outputs": [
    {
     "data": {
      "text/plain": [
       "        topic_id                                              topic  \\\n",
       "0    2024-127266  what are some key challenges related to the re...   \n",
       "1    2024-127266  what are some key challenges related to the re...   \n",
       "2    2024-127266  what are some key challenges related to the re...   \n",
       "3    2024-127266  what are some key challenges related to the re...   \n",
       "4    2024-127266  what are some key challenges related to the re...   \n",
       "..           ...                                                ...   \n",
       "195   2024-96063            how using maps can impact your pedagogy   \n",
       "196   2024-96063            how using maps can impact your pedagogy   \n",
       "197   2024-96063            how using maps can impact your pedagogy   \n",
       "198   2024-96063            how using maps can impact your pedagogy   \n",
       "199   2024-96063            how using maps can impact your pedagogy   \n",
       "\n",
       "     rel_3_doc_position  nr_rel_3_doc  nr_rel_0_doc  \\\n",
       "0                     0             1            19   \n",
       "1                     4             1            19   \n",
       "2                     9             1            19   \n",
       "3                    14             1            19   \n",
       "4                    19             1            19   \n",
       "..                  ...           ...           ...   \n",
       "195                   0             1            19   \n",
       "196                   4             1            19   \n",
       "197                   9             1            19   \n",
       "198                  14             1            19   \n",
       "199                  19             1            19   \n",
       "\n",
       "                                                oracle  \\\n",
       "0    the e-waste recycling industry faces significa...   \n",
       "1    the e-waste recycling industry faces significa...   \n",
       "2    the e-waste recycling industry faces significa...   \n",
       "3    the e-waste recycling industry faces significa...   \n",
       "4    the e-waste recycling industry faces significa...   \n",
       "..                                                 ...   \n",
       "195  maps and map learning play a critical role in ...   \n",
       "196  maps and map learning play a critical role in ...   \n",
       "197  maps and map learning play a critical role in ...   \n",
       "198  maps and map learning play a critical role in ...   \n",
       "199  maps and map learning play a critical role in ...   \n",
       "\n",
       "                                                answer   jaccard  \n",
       "0    Some key challenges related to the recycling o...  0.155738  \n",
       "1    Some key challenges related to the recycling o...  0.300752  \n",
       "2    Some key challenges related to the recycling o...  0.132353  \n",
       "3    Some key challenges related to the recycling o...  0.253968  \n",
       "4    Some key challenges related to the recycling o...  0.185714  \n",
       "..                                                 ...       ...  \n",
       "195  Using maps can significantly impact your pedag...  0.239521  \n",
       "196  Using maps can impact your pedagogy in several...  0.194805  \n",
       "197  Using maps can impact your pedagogy in several...  0.205882  \n",
       "198  Using maps can impact your pedagogy in several...  0.206061  \n",
       "199  Using maps in your pedagogy can have a signifi...  0.202381  \n",
       "\n",
       "[200 rows x 8 columns]"
      ],
      "text/html": [
       "<div>\n",
       "<style scoped>\n",
       "    .dataframe tbody tr th:only-of-type {\n",
       "        vertical-align: middle;\n",
       "    }\n",
       "\n",
       "    .dataframe tbody tr th {\n",
       "        vertical-align: top;\n",
       "    }\n",
       "\n",
       "    .dataframe thead th {\n",
       "        text-align: right;\n",
       "    }\n",
       "</style>\n",
       "<table border=\"1\" class=\"dataframe\">\n",
       "  <thead>\n",
       "    <tr style=\"text-align: right;\">\n",
       "      <th></th>\n",
       "      <th>topic_id</th>\n",
       "      <th>topic</th>\n",
       "      <th>rel_3_doc_position</th>\n",
       "      <th>nr_rel_3_doc</th>\n",
       "      <th>nr_rel_0_doc</th>\n",
       "      <th>oracle</th>\n",
       "      <th>answer</th>\n",
       "      <th>jaccard</th>\n",
       "    </tr>\n",
       "  </thead>\n",
       "  <tbody>\n",
       "    <tr>\n",
       "      <th>0</th>\n",
       "      <td>2024-127266</td>\n",
       "      <td>what are some key challenges related to the re...</td>\n",
       "      <td>0</td>\n",
       "      <td>1</td>\n",
       "      <td>19</td>\n",
       "      <td>the e-waste recycling industry faces significa...</td>\n",
       "      <td>Some key challenges related to the recycling o...</td>\n",
       "      <td>0.155738</td>\n",
       "    </tr>\n",
       "    <tr>\n",
       "      <th>1</th>\n",
       "      <td>2024-127266</td>\n",
       "      <td>what are some key challenges related to the re...</td>\n",
       "      <td>4</td>\n",
       "      <td>1</td>\n",
       "      <td>19</td>\n",
       "      <td>the e-waste recycling industry faces significa...</td>\n",
       "      <td>Some key challenges related to the recycling o...</td>\n",
       "      <td>0.300752</td>\n",
       "    </tr>\n",
       "    <tr>\n",
       "      <th>2</th>\n",
       "      <td>2024-127266</td>\n",
       "      <td>what are some key challenges related to the re...</td>\n",
       "      <td>9</td>\n",
       "      <td>1</td>\n",
       "      <td>19</td>\n",
       "      <td>the e-waste recycling industry faces significa...</td>\n",
       "      <td>Some key challenges related to the recycling o...</td>\n",
       "      <td>0.132353</td>\n",
       "    </tr>\n",
       "    <tr>\n",
       "      <th>3</th>\n",
       "      <td>2024-127266</td>\n",
       "      <td>what are some key challenges related to the re...</td>\n",
       "      <td>14</td>\n",
       "      <td>1</td>\n",
       "      <td>19</td>\n",
       "      <td>the e-waste recycling industry faces significa...</td>\n",
       "      <td>Some key challenges related to the recycling o...</td>\n",
       "      <td>0.253968</td>\n",
       "    </tr>\n",
       "    <tr>\n",
       "      <th>4</th>\n",
       "      <td>2024-127266</td>\n",
       "      <td>what are some key challenges related to the re...</td>\n",
       "      <td>19</td>\n",
       "      <td>1</td>\n",
       "      <td>19</td>\n",
       "      <td>the e-waste recycling industry faces significa...</td>\n",
       "      <td>Some key challenges related to the recycling o...</td>\n",
       "      <td>0.185714</td>\n",
       "    </tr>\n",
       "    <tr>\n",
       "      <th>...</th>\n",
       "      <td>...</td>\n",
       "      <td>...</td>\n",
       "      <td>...</td>\n",
       "      <td>...</td>\n",
       "      <td>...</td>\n",
       "      <td>...</td>\n",
       "      <td>...</td>\n",
       "      <td>...</td>\n",
       "    </tr>\n",
       "    <tr>\n",
       "      <th>195</th>\n",
       "      <td>2024-96063</td>\n",
       "      <td>how using maps can impact your pedagogy</td>\n",
       "      <td>0</td>\n",
       "      <td>1</td>\n",
       "      <td>19</td>\n",
       "      <td>maps and map learning play a critical role in ...</td>\n",
       "      <td>Using maps can significantly impact your pedag...</td>\n",
       "      <td>0.239521</td>\n",
       "    </tr>\n",
       "    <tr>\n",
       "      <th>196</th>\n",
       "      <td>2024-96063</td>\n",
       "      <td>how using maps can impact your pedagogy</td>\n",
       "      <td>4</td>\n",
       "      <td>1</td>\n",
       "      <td>19</td>\n",
       "      <td>maps and map learning play a critical role in ...</td>\n",
       "      <td>Using maps can impact your pedagogy in several...</td>\n",
       "      <td>0.194805</td>\n",
       "    </tr>\n",
       "    <tr>\n",
       "      <th>197</th>\n",
       "      <td>2024-96063</td>\n",
       "      <td>how using maps can impact your pedagogy</td>\n",
       "      <td>9</td>\n",
       "      <td>1</td>\n",
       "      <td>19</td>\n",
       "      <td>maps and map learning play a critical role in ...</td>\n",
       "      <td>Using maps can impact your pedagogy in several...</td>\n",
       "      <td>0.205882</td>\n",
       "    </tr>\n",
       "    <tr>\n",
       "      <th>198</th>\n",
       "      <td>2024-96063</td>\n",
       "      <td>how using maps can impact your pedagogy</td>\n",
       "      <td>14</td>\n",
       "      <td>1</td>\n",
       "      <td>19</td>\n",
       "      <td>maps and map learning play a critical role in ...</td>\n",
       "      <td>Using maps can impact your pedagogy in several...</td>\n",
       "      <td>0.206061</td>\n",
       "    </tr>\n",
       "    <tr>\n",
       "      <th>199</th>\n",
       "      <td>2024-96063</td>\n",
       "      <td>how using maps can impact your pedagogy</td>\n",
       "      <td>19</td>\n",
       "      <td>1</td>\n",
       "      <td>19</td>\n",
       "      <td>maps and map learning play a critical role in ...</td>\n",
       "      <td>Using maps in your pedagogy can have a signifi...</td>\n",
       "      <td>0.202381</td>\n",
       "    </tr>\n",
       "  </tbody>\n",
       "</table>\n",
       "<p>200 rows × 8 columns</p>\n",
       "</div>"
      ]
     },
     "execution_count": 2,
     "metadata": {},
     "output_type": "execute_result"
    }
   ],
   "execution_count": 2
  },
  {
   "metadata": {
    "ExecuteTime": {
     "end_time": "2025-07-27T21:03:10.866798Z",
     "start_time": "2025-07-27T21:03:10.840134Z"
    }
   },
   "cell_type": "code",
   "source": [
    "df_jaccard = df.groupby('rel_3_doc_position')['jaccard'].mean().reset_index()\n",
    "df_jaccard.columns = ['Position of oracle document', 'Jaccard coefficient']\n",
    "df_jaccard['Position of oracle document'] = df_jaccard['Position of oracle document'] + 1\n",
    "df_jaccard\n",
    "\n",
    "store_df_as_parquet(df_jaccard, f\"jaccard-{df_name}\")"
   ],
   "id": "82981a82fcc01955",
   "outputs": [
    {
     "name": "stdout",
     "output_type": "stream",
     "text": [
      "\u001B[32m2025-07-27 23:03:10.861\u001B[0m | \u001B[1mINFO    \u001B[0m | \u001B[36mslt_positional_bias.dataset\u001B[0m:\u001B[36mstore_df_as_parquet\u001B[0m:\u001B[36m110\u001B[0m - \u001B[1mData frame saved to C:\\Users\\Albert\\Documents\\SLT\\slt_group_2_positional_bias\\data\\processed\\jaccard-LLM-alias-fast-sample-count-20-1-2025-07-27 21h-08m-09s-1-2025-07-27 23h-03m-10s.parquet\u001B[0m\n"
     ]
    }
   ],
   "execution_count": 6
  },
  {
   "metadata": {
    "ExecuteTime": {
     "end_time": "2025-07-27T20:33:52.738078Z",
     "start_time": "2025-07-27T20:33:52.252734Z"
    }
   },
   "cell_type": "code",
   "source": [
    "import seaborn as sns\n",
    "import matplotlib.pyplot as plt\n",
    "from slt_positional_bias.plots import savefig\n",
    "\n",
    "plt.figure(figsize=(10, 6))\n",
    "sns.lineplot(\n",
    "    data=df_jaccard,\n",
    "    x='Position of oracle document',\n",
    "    y='Jaccard coefficient',\n",
    "    marker='o'\n",
    ")\n",
    "\n",
    "plt.xticks(df_jaccard['Position of oracle document'])\n",
    "\n",
    "title = 'Average Jaccard Coefficient per Oracle Position'\n",
    "\n",
    "plt.title(title)\n",
    "plt.xlabel('Position of oracle document')\n",
    "plt.ylabel('Jaccard coefficient')\n",
    "plt.xlim(0, 21)\n",
    "plt.ylim(0, 1)\n",
    "plt.grid(True)\n",
    "plt.tight_layout()\n",
    "\n",
    "for x, y in zip(df_jaccard['Position of oracle document'], df_jaccard['Jaccard coefficient']):\n",
    "    plt.text(x, y + 0.02, f'{y:.3f}', ha='center', va='bottom', fontsize=9, color='black')\n",
    "\n",
    "savefig(plt, title, df_name, 300)"
   ],
   "id": "b459d71e79a61deb",
   "outputs": [
    {
     "data": {
      "text/plain": [
       "<Figure size 1000x600 with 1 Axes>"
      ],
      "image/png": "[encoded data removed]"
     },
     "metadata": {},
     "output_type": "display_data"
    }
   ],
   "execution_count": 5
  }
 ],
 "metadata": {
  "kernelspec": {
   "display_name": "Python 3",
   "language": "python",
   "name": "python3"
  },
  "language_info": {
   "codemirror_mode": {
    "name": "ipython",
    "version": 2
   },
   "file_extension": ".py",
   "mimetype": "text/x-python",
   "name": "python",
   "nbconvert_exporter": "python",
   "pygments_lexer": "ipython2",
   "version": "2.7.6"
  }
 },
 "nbformat": 4,
 "nbformat_minor": 5
}
