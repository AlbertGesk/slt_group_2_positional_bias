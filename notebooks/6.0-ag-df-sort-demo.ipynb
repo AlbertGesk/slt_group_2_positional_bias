{
 "cells": [
  {
   "metadata": {},
   "cell_type": "markdown",
   "source": [
    "### How to use sort_df\n",
    "\n"
   ],
   "id": "bdf6a840be7d9c81"
  },
  {
   "metadata": {
    "ExecuteTime": {
     "end_time": "2025-07-24T14:33:07.700041Z",
     "start_time": "2025-07-24T14:33:00.761540Z"
    }
   },
   "cell_type": "code",
   "source": [
    "from loguru import logger\n",
    "\n",
    "import pandas as pd\n",
    "\n",
    "from slt_positional_bias.dataset import generate_merged_data_frame, sort_data_frame, store_df_as_parquet, \\\n",
    "    load_parquet_as_df\n",
    "\n",
    "df = generate_merged_data_frame()\n",
    "\n",
    "# Given a df, the function returns a df which only contains topics with 4 snippets of rel_scoring=3 and 36 snippets of rel_scoring=0\n",
    "df_sorted = sort_data_frame(df, 1, 36)\n",
    "\n",
    "# Only 40 topics within df fulfills the condition\n",
    "# Thus, 40 Snippets x (4+36) Topics = 1600 entries\n",
    "\n",
    "\n"
   ],
   "id": "fbabddf4e2cd2a10",
   "outputs": [
    {
     "name": "stderr",
     "output_type": "stream",
     "text": [
      "\u001B[32m2025-07-24 16:33:01.782\u001B[0m | \u001B[1mINFO    \u001B[0m | \u001B[36mslt_positional_bias.config\u001B[0m:\u001B[36m<module>\u001B[0m:\u001B[36m11\u001B[0m - \u001B[1mPROJ_ROOT path is: C:\\Users\\Albert\\Documents\\SLT\\slt_group_2_positional_bias\u001B[0m\n"
     ]
    },
    {
     "name": "stdout",
     "output_type": "stream",
     "text": [
      "\u001B[32m2025-07-24 16:33:01.963\u001B[0m | \u001B[1mINFO    \u001B[0m | \u001B[36mslt_positional_bias.dataset\u001B[0m:\u001B[36mgenerate_data_frame\u001B[0m:\u001B[36m97\u001B[0m - \u001B[1mfile path exists\u001B[0m\n",
      "\u001B[32m2025-07-24 16:33:07.201\u001B[0m | \u001B[1mINFO    \u001B[0m | \u001B[36mslt_positional_bias.dataset\u001B[0m:\u001B[36mgenerate_data_frame\u001B[0m:\u001B[36m97\u001B[0m - \u001B[1mfile path exists\u001B[0m\n",
      "\u001B[32m2025-07-24 16:33:07.207\u001B[0m | \u001B[1mINFO    \u001B[0m | \u001B[36mslt_positional_bias.dataset\u001B[0m:\u001B[36mgenerate_data_frame\u001B[0m:\u001B[36m97\u001B[0m - \u001B[1mfile path exists\u001B[0m\n",
      "\u001B[32m2025-07-24 16:33:07.499\u001B[0m | \u001B[1mINFO    \u001B[0m | \u001B[36mslt_positional_bias.dataset\u001B[0m:\u001B[36mgenerate_merged_data_frame\u001B[0m:\u001B[36m70\u001B[0m - \u001B[1mdf column 'doc_id' is unique: True\u001B[0m\n",
      "\u001B[32m2025-07-24 16:33:07.510\u001B[0m | \u001B[1mINFO    \u001B[0m | \u001B[36mslt_positional_bias.dataset\u001B[0m:\u001B[36mgenerate_merged_data_frame\u001B[0m:\u001B[36m71\u001B[0m - \u001B[1mdf contains NaN: False\u001B[0m\n"
     ]
    },
    {
     "name": "stderr",
     "output_type": "stream",
     "text": [
      "C:\\Users\\Albert\\Documents\\SLT\\slt_group_2_positional_bias\\slt_positional_bias\\dataset.py:31: FutureWarning: DataFrameGroupBy.apply operated on the grouping columns. This behavior is deprecated, and in a future version of pandas the grouping columns will be excluded from the operation. Either pass `include_groups=False` to exclude the groupings or explicitly select the grouping columns after groupby to silence this warning.\n",
      "  df_filtered_rel = grouped.apply(\n"
     ]
    }
   ],
   "execution_count": 1
  },
  {
   "metadata": {
    "ExecuteTime": {
     "end_time": "2025-07-24T14:33:12.072194Z",
     "start_time": "2025-07-24T14:33:12.018734Z"
    }
   },
   "cell_type": "code",
   "source": "store_df_as_parquet(df_sorted, \"output\")\n",
   "id": "9bcea36732ce718",
   "outputs": [],
   "execution_count": 2
  },
  {
   "metadata": {
    "ExecuteTime": {
     "end_time": "2025-07-24T14:34:08.582857Z",
     "start_time": "2025-07-24T14:34:08.550019Z"
    }
   },
   "cell_type": "code",
   "source": [
    "df_loaded = load_parquet_as_df(\"output\")\n",
    "df_loaded"
   ],
   "id": "d98335a2c76308e4",
   "outputs": [
    {
     "data": {
      "text/plain": [
       "         topic_id                                        doc_id  rel_scoring  \\\n",
       "0     2024-105741  msmarco_v2.1_doc_56_1565054098#14_3191674270            0   \n",
       "1     2024-105741     msmarco_v2.1_doc_16_287012450#4_490828734            0   \n",
       "2     2024-105741     msmarco_v2.1_doc_18_512963387#3_575791642            0   \n",
       "3     2024-105741  msmarco_v2.1_doc_13_1071259551#11_2377754462            0   \n",
       "4     2024-105741  msmarco_v2.1_doc_39_1162159389#10_2348941613            0   \n",
       "...           ...                                           ...          ...   \n",
       "2241   2024-96063   msmarco_v2.1_doc_25_947435380#15_1757291433            0   \n",
       "2242   2024-96063   msmarco_v2.1_doc_52_1260126505#8_2526623662            3   \n",
       "2243   2024-96063   msmarco_v2.1_doc_33_1002533346#9_2137815825            3   \n",
       "2244   2024-96063   msmarco_v2.1_doc_14_1335772831#2_2728776902            3   \n",
       "2245   2024-96063   msmarco_v2.1_doc_52_1260126505#7_2526620166            3   \n",
       "\n",
       "                                                  topic  \\\n",
       "0     is it dangerous to have wbc over 15,000 withou...   \n",
       "1     is it dangerous to have wbc over 15,000 withou...   \n",
       "2     is it dangerous to have wbc over 15,000 withou...   \n",
       "3     is it dangerous to have wbc over 15,000 withou...   \n",
       "4     is it dangerous to have wbc over 15,000 withou...   \n",
       "...                                                 ...   \n",
       "2241            how using maps can impact your pedagogy   \n",
       "2242            how using maps can impact your pedagogy   \n",
       "2243            how using maps can impact your pedagogy   \n",
       "2244            how using maps can impact your pedagogy   \n",
       "2245            how using maps can impact your pedagogy   \n",
       "\n",
       "                                                    doc  \n",
       "0     Hydrocodone Withdrawal: Symptoms, Timeline, an...  \n",
       "1     Bacteremia Treatment & Management: Medical Car...  \n",
       "2     Neonatal sepsis - Wikipedia Neonatal sepsis\\nN...  \n",
       "3     Cause of Low and High White Blood Cell Count i...  \n",
       "4     Treatment Options Post CLL Diagnosis | Everyda...  \n",
       "...                                                 ...  \n",
       "2241  Intersectional Pedagogy | Denver Intersectiona...  \n",
       "2242    Maps and Map Learning in Social Studies\\nRes...  \n",
       "2243  Why mind mapping works: the benefits of mind m...  \n",
       "2244  8 Visual Teaching Strategies to Win Over Your ...  \n",
       "2245    Maps and Map Learning in Social Studies\\nRes...  \n",
       "\n",
       "[2246 rows x 5 columns]"
      ],
      "text/html": [
       "<div>\n",
       "<style scoped>\n",
       "    .dataframe tbody tr th:only-of-type {\n",
       "        vertical-align: middle;\n",
       "    }\n",
       "\n",
       "    .dataframe tbody tr th {\n",
       "        vertical-align: top;\n",
       "    }\n",
       "\n",
       "    .dataframe thead th {\n",
       "        text-align: right;\n",
       "    }\n",
       "</style>\n",
       "<table border=\"1\" class=\"dataframe\">\n",
       "  <thead>\n",
       "    <tr style=\"text-align: right;\">\n",
       "      <th></th>\n",
       "      <th>topic_id</th>\n",
       "      <th>doc_id</th>\n",
       "      <th>rel_scoring</th>\n",
       "      <th>topic</th>\n",
       "      <th>doc</th>\n",
       "    </tr>\n",
       "  </thead>\n",
       "  <tbody>\n",
       "    <tr>\n",
       "      <th>0</th>\n",
       "      <td>2024-105741</td>\n",
       "      <td>msmarco_v2.1_doc_56_1565054098#14_3191674270</td>\n",
       "      <td>0</td>\n",
       "      <td>is it dangerous to have wbc over 15,000 withou...</td>\n",
       "      <td>Hydrocodone Withdrawal: Symptoms, Timeline, an...</td>\n",
       "    </tr>\n",
       "    <tr>\n",
       "      <th>1</th>\n",
       "      <td>2024-105741</td>\n",
       "      <td>msmarco_v2.1_doc_16_287012450#4_490828734</td>\n",
       "      <td>0</td>\n",
       "      <td>is it dangerous to have wbc over 15,000 withou...</td>\n",
       "      <td>Bacteremia Treatment &amp; Management: Medical Car...</td>\n",
       "    </tr>\n",
       "    <tr>\n",
       "      <th>2</th>\n",
       "      <td>2024-105741</td>\n",
       "      <td>msmarco_v2.1_doc_18_512963387#3_575791642</td>\n",
       "      <td>0</td>\n",
       "      <td>is it dangerous to have wbc over 15,000 withou...</td>\n",
       "      <td>Neonatal sepsis - Wikipedia Neonatal sepsis\\nN...</td>\n",
       "    </tr>\n",
       "    <tr>\n",
       "      <th>3</th>\n",
       "      <td>2024-105741</td>\n",
       "      <td>msmarco_v2.1_doc_13_1071259551#11_2377754462</td>\n",
       "      <td>0</td>\n",
       "      <td>is it dangerous to have wbc over 15,000 withou...</td>\n",
       "      <td>Cause of Low and High White Blood Cell Count i...</td>\n",
       "    </tr>\n",
       "    <tr>\n",
       "      <th>4</th>\n",
       "      <td>2024-105741</td>\n",
       "      <td>msmarco_v2.1_doc_39_1162159389#10_2348941613</td>\n",
       "      <td>0</td>\n",
       "      <td>is it dangerous to have wbc over 15,000 withou...</td>\n",
       "      <td>Treatment Options Post CLL Diagnosis | Everyda...</td>\n",
       "    </tr>\n",
       "    <tr>\n",
       "      <th>...</th>\n",
       "      <td>...</td>\n",
       "      <td>...</td>\n",
       "      <td>...</td>\n",
       "      <td>...</td>\n",
       "      <td>...</td>\n",
       "    </tr>\n",
       "    <tr>\n",
       "      <th>2241</th>\n",
       "      <td>2024-96063</td>\n",
       "      <td>msmarco_v2.1_doc_25_947435380#15_1757291433</td>\n",
       "      <td>0</td>\n",
       "      <td>how using maps can impact your pedagogy</td>\n",
       "      <td>Intersectional Pedagogy | Denver Intersectiona...</td>\n",
       "    </tr>\n",
       "    <tr>\n",
       "      <th>2242</th>\n",
       "      <td>2024-96063</td>\n",
       "      <td>msmarco_v2.1_doc_52_1260126505#8_2526623662</td>\n",
       "      <td>3</td>\n",
       "      <td>how using maps can impact your pedagogy</td>\n",
       "      <td>Maps and Map Learning in Social Studies\\nRes...</td>\n",
       "    </tr>\n",
       "    <tr>\n",
       "      <th>2243</th>\n",
       "      <td>2024-96063</td>\n",
       "      <td>msmarco_v2.1_doc_33_1002533346#9_2137815825</td>\n",
       "      <td>3</td>\n",
       "      <td>how using maps can impact your pedagogy</td>\n",
       "      <td>Why mind mapping works: the benefits of mind m...</td>\n",
       "    </tr>\n",
       "    <tr>\n",
       "      <th>2244</th>\n",
       "      <td>2024-96063</td>\n",
       "      <td>msmarco_v2.1_doc_14_1335772831#2_2728776902</td>\n",
       "      <td>3</td>\n",
       "      <td>how using maps can impact your pedagogy</td>\n",
       "      <td>8 Visual Teaching Strategies to Win Over Your ...</td>\n",
       "    </tr>\n",
       "    <tr>\n",
       "      <th>2245</th>\n",
       "      <td>2024-96063</td>\n",
       "      <td>msmarco_v2.1_doc_52_1260126505#7_2526620166</td>\n",
       "      <td>3</td>\n",
       "      <td>how using maps can impact your pedagogy</td>\n",
       "      <td>Maps and Map Learning in Social Studies\\nRes...</td>\n",
       "    </tr>\n",
       "  </tbody>\n",
       "</table>\n",
       "<p>2246 rows × 5 columns</p>\n",
       "</div>"
      ]
     },
     "execution_count": 4,
     "metadata": {},
     "output_type": "execute_result"
    }
   ],
   "execution_count": 4
  }
 ],
 "metadata": {
  "kernelspec": {
   "display_name": "Python 3",
   "language": "python",
   "name": "python3"
  },
  "language_info": {
   "codemirror_mode": {
    "name": "ipython",
    "version": 2
   },
   "file_extension": ".py",
   "mimetype": "text/x-python",
   "name": "python",
   "nbconvert_exporter": "python",
   "pygments_lexer": "ipython2",
   "version": "2.7.6"
  }
 },
 "nbformat": 4,
 "nbformat_minor": 5
}
