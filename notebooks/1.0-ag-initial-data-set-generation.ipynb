{
 "cells": [
  {
   "metadata": {},
   "cell_type": "markdown",
   "source": "Attempt to load json files from data dir as panda data frames",
   "id": "b591d7ef8be17b1a"
  },
  {
   "metadata": {
    "ExecuteTime": {
     "end_time": "2025-07-01T18:01:47.599368Z",
     "start_time": "2025-07-01T18:01:41.880623Z"
    }
   },
   "cell_type": "code",
   "source": [
    "import json\n",
    "import pandas as pd\n",
    "import sys\n",
    "from pathlib import Path\n",
    "from slt_positional_bias.dataset import generate_data_frame\n",
    "\n",
    "sys.path.append(str(Path().resolve().parent))\n",
    "\n",
    "corpus_df = generate_data_frame(\"data/interim/inputs/corpus.jsonl\")\n",
    "queries_df = generate_data_frame(\"data/interim/inputs/queries.jsonl\")\n",
    "relevance_df = generate_data_frame(\"data/interim/inputs/qrels.rag24.test-umbrela-all.txt\")\n",
    "\n",
    "corpus_df.tail(3)"
   ],
   "id": "8ffbe2e92fd08090",
   "outputs": [
    {
     "name": "stderr",
     "output_type": "stream",
     "text": [
      "\u001B[32m2025-07-01 20:01:42.703\u001B[0m | \u001B[1mINFO    \u001B[0m | \u001B[36mslt_positional_bias.config\u001B[0m:\u001B[36m<module>\u001B[0m:\u001B[36m11\u001B[0m - \u001B[1mPROJ_ROOT path is: C:\\Users\\Albert\\Documents\\SLT\\slt_group_2_positional_bias\u001B[0m\n"
     ]
    },
    {
     "name": "stdout",
     "output_type": "stream",
     "text": [
      "\u001B[32m2025-07-01 20:01:42.869\u001B[0m | \u001B[1mINFO    \u001B[0m | \u001B[36mslt_positional_bias.dataset\u001B[0m:\u001B[36mgenerate_data_frame\u001B[0m:\u001B[36m20\u001B[0m - \u001B[1mfile path exists\u001B[0m\n",
      "\u001B[32m2025-07-01 20:01:47.461\u001B[0m | \u001B[1mINFO    \u001B[0m | \u001B[36mslt_positional_bias.dataset\u001B[0m:\u001B[36mgenerate_data_frame\u001B[0m:\u001B[36m20\u001B[0m - \u001B[1mfile path exists\u001B[0m\n",
      "\u001B[32m2025-07-01 20:01:47.466\u001B[0m | \u001B[1mINFO    \u001B[0m | \u001B[36mslt_positional_bias.dataset\u001B[0m:\u001B[36mgenerate_data_frame\u001B[0m:\u001B[36m20\u001B[0m - \u001B[1mfile path exists\u001B[0m\n"
     ]
    },
    {
     "data": {
      "text/plain": [
       "                                               docno  \\\n",
       "116691  msmarco_v2.1_doc_49_1086472702#22_2229413969   \n",
       "116692   msmarco_v2.1_doc_34_1540555152#9_3240635353   \n",
       "116693  msmarco_v2.1_doc_53_1119612308#16_2492012852   \n",
       "\n",
       "                                                     text  \\\n",
       "116691  Money is Everything - Physician on FIRE Money ...   \n",
       "116692  Maximilien Robespierre | Biography, French Rev...   \n",
       "116693  eCommDirect - inmate Commissary Purchases and ...   \n",
       "\n",
       "                                        original_document  \n",
       "116691  {'doc_id': 'msmarco_v2.1_doc_49_1086472702#22_...  \n",
       "116692  {'doc_id': 'msmarco_v2.1_doc_34_1540555152#9_3...  \n",
       "116693  {'doc_id': 'msmarco_v2.1_doc_53_1119612308#16_...  "
      ],
      "text/html": [
       "<div>\n",
       "<style scoped>\n",
       "    .dataframe tbody tr th:only-of-type {\n",
       "        vertical-align: middle;\n",
       "    }\n",
       "\n",
       "    .dataframe tbody tr th {\n",
       "        vertical-align: top;\n",
       "    }\n",
       "\n",
       "    .dataframe thead th {\n",
       "        text-align: right;\n",
       "    }\n",
       "</style>\n",
       "<table border=\"1\" class=\"dataframe\">\n",
       "  <thead>\n",
       "    <tr style=\"text-align: right;\">\n",
       "      <th></th>\n",
       "      <th>docno</th>\n",
       "      <th>text</th>\n",
       "      <th>original_document</th>\n",
       "    </tr>\n",
       "  </thead>\n",
       "  <tbody>\n",
       "    <tr>\n",
       "      <th>116691</th>\n",
       "      <td>msmarco_v2.1_doc_49_1086472702#22_2229413969</td>\n",
       "      <td>Money is Everything - Physician on FIRE Money ...</td>\n",
       "      <td>{'doc_id': 'msmarco_v2.1_doc_49_1086472702#22_...</td>\n",
       "    </tr>\n",
       "    <tr>\n",
       "      <th>116692</th>\n",
       "      <td>msmarco_v2.1_doc_34_1540555152#9_3240635353</td>\n",
       "      <td>Maximilien Robespierre | Biography, French Rev...</td>\n",
       "      <td>{'doc_id': 'msmarco_v2.1_doc_34_1540555152#9_3...</td>\n",
       "    </tr>\n",
       "    <tr>\n",
       "      <th>116693</th>\n",
       "      <td>msmarco_v2.1_doc_53_1119612308#16_2492012852</td>\n",
       "      <td>eCommDirect - inmate Commissary Purchases and ...</td>\n",
       "      <td>{'doc_id': 'msmarco_v2.1_doc_53_1119612308#16_...</td>\n",
       "    </tr>\n",
       "  </tbody>\n",
       "</table>\n",
       "</div>"
      ]
     },
     "execution_count": 1,
     "metadata": {},
     "output_type": "execute_result"
    }
   ],
   "execution_count": 1
  },
  {
   "metadata": {
    "ExecuteTime": {
     "end_time": "2025-07-01T18:01:50.068557Z",
     "start_time": "2025-07-01T18:01:50.060985Z"
    }
   },
   "cell_type": "code",
   "source": "queries_df.tail(3)\n",
   "id": "1f8eb104f09ca00c",
   "outputs": [
    {
     "data": {
      "text/plain": [
       "            qid                                              query  \\\n",
       "86   2024-58819  how many latino have been misinformed about ed...   \n",
       "87   2024-42014            how does religion show in public school   \n",
       "88  2024-127266  what are some key challenges related to the re...   \n",
       "\n",
       "                                       original_query  \n",
       "86  {'query_id': '2024-58819', 'text': 'how many l...  \n",
       "87  {'query_id': '2024-42014', 'text': 'how does r...  \n",
       "88  {'query_id': '2024-127266', 'text': 'what are ...  "
      ],
      "text/html": [
       "<div>\n",
       "<style scoped>\n",
       "    .dataframe tbody tr th:only-of-type {\n",
       "        vertical-align: middle;\n",
       "    }\n",
       "\n",
       "    .dataframe tbody tr th {\n",
       "        vertical-align: top;\n",
       "    }\n",
       "\n",
       "    .dataframe thead th {\n",
       "        text-align: right;\n",
       "    }\n",
       "</style>\n",
       "<table border=\"1\" class=\"dataframe\">\n",
       "  <thead>\n",
       "    <tr style=\"text-align: right;\">\n",
       "      <th></th>\n",
       "      <th>qid</th>\n",
       "      <th>query</th>\n",
       "      <th>original_query</th>\n",
       "    </tr>\n",
       "  </thead>\n",
       "  <tbody>\n",
       "    <tr>\n",
       "      <th>86</th>\n",
       "      <td>2024-58819</td>\n",
       "      <td>how many latino have been misinformed about ed...</td>\n",
       "      <td>{'query_id': '2024-58819', 'text': 'how many l...</td>\n",
       "    </tr>\n",
       "    <tr>\n",
       "      <th>87</th>\n",
       "      <td>2024-42014</td>\n",
       "      <td>how does religion show in public school</td>\n",
       "      <td>{'query_id': '2024-42014', 'text': 'how does r...</td>\n",
       "    </tr>\n",
       "    <tr>\n",
       "      <th>88</th>\n",
       "      <td>2024-127266</td>\n",
       "      <td>what are some key challenges related to the re...</td>\n",
       "      <td>{'query_id': '2024-127266', 'text': 'what are ...</td>\n",
       "    </tr>\n",
       "  </tbody>\n",
       "</table>\n",
       "</div>"
      ]
     },
     "execution_count": 2,
     "metadata": {},
     "output_type": "execute_result"
    }
   ],
   "execution_count": 2
  },
  {
   "metadata": {
    "ExecuteTime": {
     "end_time": "2025-07-01T18:01:51.891465Z",
     "start_time": "2025-07-01T18:01:51.884442Z"
    }
   },
   "cell_type": "code",
   "source": "relevance_df.tail(3)",
   "id": "c17d8ec6c5ca01dd",
   "outputs": [
    {
     "data": {
      "text/plain": [
       "       2024-145979  Q0  msmarco_v2.1_doc_13_1647729865#1_3617399591  3\n",
       "108475  2024-21669  Q0  msmarco_v2.1_doc_01_1752638978#7_2584141250  1\n",
       "108476  2024-21669  Q0  msmarco_v2.1_doc_09_914336366#11_1554208777  0\n",
       "108477  2024-21669  Q0  msmarco_v2.1_doc_26_812182301#10_1581123427  0"
      ],
      "text/html": [
       "<div>\n",
       "<style scoped>\n",
       "    .dataframe tbody tr th:only-of-type {\n",
       "        vertical-align: middle;\n",
       "    }\n",
       "\n",
       "    .dataframe tbody tr th {\n",
       "        vertical-align: top;\n",
       "    }\n",
       "\n",
       "    .dataframe thead th {\n",
       "        text-align: right;\n",
       "    }\n",
       "</style>\n",
       "<table border=\"1\" class=\"dataframe\">\n",
       "  <thead>\n",
       "    <tr style=\"text-align: right;\">\n",
       "      <th></th>\n",
       "      <th>2024-145979</th>\n",
       "      <th>Q0</th>\n",
       "      <th>msmarco_v2.1_doc_13_1647729865#1_3617399591</th>\n",
       "      <th>3</th>\n",
       "    </tr>\n",
       "  </thead>\n",
       "  <tbody>\n",
       "    <tr>\n",
       "      <th>108475</th>\n",
       "      <td>2024-21669</td>\n",
       "      <td>Q0</td>\n",
       "      <td>msmarco_v2.1_doc_01_1752638978#7_2584141250</td>\n",
       "      <td>1</td>\n",
       "    </tr>\n",
       "    <tr>\n",
       "      <th>108476</th>\n",
       "      <td>2024-21669</td>\n",
       "      <td>Q0</td>\n",
       "      <td>msmarco_v2.1_doc_09_914336366#11_1554208777</td>\n",
       "      <td>0</td>\n",
       "    </tr>\n",
       "    <tr>\n",
       "      <th>108477</th>\n",
       "      <td>2024-21669</td>\n",
       "      <td>Q0</td>\n",
       "      <td>msmarco_v2.1_doc_26_812182301#10_1581123427</td>\n",
       "      <td>0</td>\n",
       "    </tr>\n",
       "  </tbody>\n",
       "</table>\n",
       "</div>"
      ]
     },
     "execution_count": 3,
     "metadata": {},
     "output_type": "execute_result"
    }
   ],
   "execution_count": 3
  }
 ],
 "metadata": {
  "kernelspec": {
   "display_name": "Python 3",
   "language": "python",
   "name": "python3"
  },
  "language_info": {
   "codemirror_mode": {
    "name": "ipython",
    "version": 2
   },
   "file_extension": ".py",
   "mimetype": "text/x-python",
   "name": "python",
   "nbconvert_exporter": "python",
   "pygments_lexer": "ipython2",
   "version": "2.7.6"
  }
 },
 "nbformat": 4,
 "nbformat_minor": 5
}
