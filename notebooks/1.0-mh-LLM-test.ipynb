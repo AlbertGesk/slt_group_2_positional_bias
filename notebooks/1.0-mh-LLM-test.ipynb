{
 "cells": [
  {
   "cell_type": "code",
   "execution_count": null,
   "id": "48f639b1",
   "metadata": {},
   "outputs": [],
   "source": [
    "API_URL = \"https://api.helmholtz-blablador.fz-juelich.de/v1/\"\n",
    "API_KEY = \"\"\n",
    "API_MODEL = \"alias-fast\"\n",
    "\n",
    "from openai import OpenAI\n",
    "\n",
    "client = OpenAI(\n",
    "    api_key=API_KEY,\n",
    "    base_url=API_URL\n",
    ")"
   ]
  },
  {
   "cell_type": "code",
   "execution_count": 94,
   "id": "a8a62665",
   "metadata": {},
   "outputs": [],
   "source": [
    "import pandas as pd\n",
    "\n",
    "df_results_all = pd.DataFrame()"
   ]
  },
  {
   "cell_type": "code",
   "execution_count": 95,
   "id": "8156e10c",
   "metadata": {},
   "outputs": [],
   "source": [
    "\n",
    "positions = [0, 4, 9, 14, 18]  # Positionen für das relevante Dokument\n",
    "rel3_count = 2               # bis zu 4 relevante Dokumente kombinieren\n",
    "rel0_count = 18\n",
    "sample_count = rel0_count + 1 # Anzahl Dokumente im Prompt (inkl. rel=3)\n",
    "max_qids = 40               # Maximale Anzahl qids, die verarbeitet werden"
   ]
  },
  {
   "cell_type": "code",
   "execution_count": 98,
   "id": "b7f4ea8f",
   "metadata": {},
   "outputs": [
    {
     "name": "stdout",
     "output_type": "stream",
     "text": [
      "\n",
      "Eval-Ergebnisse (Stichprobe):\n",
      "eval_result\n",
      "Yes    327\n",
      "No      73\n",
      "Name: count, dtype: int64\n"
     ]
    }
   ],
   "source": [
    "\n",
    "import pandas as pd\n",
    "\n",
    "from slt_positional_bias.dataset import generate_merged_data_frame, sort_data_frame, store_df_as_parquet, load_parquet_as_df\n",
    "\n",
    "# Liste für Ergebnisse\n",
    "results = []\n",
    "df_final = load_parquet_as_df(\"output_cleaned_df\")\n",
    "\n",
    "topic_ids = df_final['topic_id'].unique()[:max_qids]\n",
    "\n",
    "for topic_id in topic_ids:\n",
    "    df_topic = df_final[df_final['topic_id'] == topic_id]\n",
    "\n",
    "    # Relevante und irrelevante Dokumente holen\n",
    "    rel_3_docs = df_topic[df_topic['rel_scoring'] == 3].head(rel3_count)\n",
    "    rel_0_docs = df_topic[df_topic['rel_scoring'] == 0].head(rel0_count)\n",
    "\n",
    "    query = rel_3_docs['topic'].iloc[0]\n",
    "    rel_3_text = ' '.join(rel_3_docs['doc'].tolist())\n",
    "    rel_0_texts = rel_0_docs['doc'].tolist()\n",
    "\n",
    "    for pos in positions:\n",
    "        # Kontext aufbauen\n",
    "        text_list = rel_0_texts.copy()\n",
    "        if pos >= len(text_list):\n",
    "            text_list.append(rel_3_text)\n",
    "        else:\n",
    "            text_list.insert(pos, rel_3_text)\n",
    "\n",
    "        context_string = ' '.join(text_list)\n",
    "\n",
    "        # Prompt erstellen\n",
    "        user_prompt = f\"\"\"\n",
    "        Context:\n",
    "        {context_string}\n",
    "\n",
    "        Question:\n",
    "        {query}\n",
    "\n",
    "        Answer:\"\"\"\n",
    "        system_prompt = \"You are a helpful assistant answering a question based on retrieved context information.\"\n",
    "\n",
    "        # Modell antworten lassen\n",
    "        response = client.chat.completions.create(\n",
    "            model=API_MODEL,\n",
    "            temperature=0.4,\n",
    "            messages=[\n",
    "                {\"role\": \"system\", \"content\": system_prompt},\n",
    "                {\"role\": \"user\", \"content\": user_prompt}\n",
    "            ],\n",
    "        )\n",
    "        answer = response.choices[0].message.content.strip()\n",
    "\n",
    "        # Evaluation durchführen\n",
    "        evaluation_prompt = f\"\"\"\n",
    "        You are evaluating a language model's answer based on a context of {sample_count} sections: one highly relevant, and {rel0_count} irrelevant.\n",
    "\n",
    "        Only the following section is relevant:\n",
    "        \\\"\\\"\\\"{rel_3_text}\\\"\\\"\\\"\n",
    "\n",
    "        This is Answer from the model based on {sample_count} sections:\n",
    "        \\\"\\\"\\\"{answer}\\\"\\\"\\\"\n",
    "\n",
    "        Question:\n",
    "        Is the answer based on the relevant section?\n",
    "\n",
    "        Reply with exactly one word: Yes or No\n",
    "        \"\"\"\n",
    "        eval_response = client.chat.completions.create(\n",
    "            model=API_MODEL,\n",
    "            temperature=0,\n",
    "            messages=[\n",
    "                {\"role\": \"user\", \"content\": evaluation_prompt}\n",
    "                ],\n",
    "        )\n",
    "        eval_result = eval_response.choices[0].message.content.strip()\n",
    "\n",
    "        # Speichern\n",
    "        results.append({\n",
    "            'topic_id': topic_id,\n",
    "            'position': pos,\n",
    "            'eval_result': eval_result\n",
    "        })\n",
    "\n",
    "# DataFrame erstellen\n",
    "df_results = pd.DataFrame(results)\n",
    "\n",
    "# An globalen Speicher anhängen (wenn vorhanden)\n",
    "try:\n",
    "    df_results_all = pd.concat([df_results_all, df_results], ignore_index=True)\n",
    "except NameError:\n",
    "    df_results_all = df_results.copy()\n",
    "\n",
    "# Ergebnisse anzeigen\n",
    "print(\"\\nEval-Ergebnisse (Stichprobe):\")\n",
    "print(df_results_all['eval_result'].value_counts())\n"
   ]
  },
  {
   "cell_type": "code",
   "execution_count": 101,
   "id": "266081ad",
   "metadata": {},
   "outputs": [],
   "source": [
    "store_df_as_parquet(df_results_all, \"results9\")"
   ]
  },
  {
   "cell_type": "code",
   "execution_count": null,
   "id": "61806833",
   "metadata": {},
   "outputs": [],
   "source": [
    "#df_results_all = load_parquet_as_df(\"results7\")"
   ]
  },
  {
   "cell_type": "code",
   "execution_count": 99,
   "id": "1ee4433a",
   "metadata": {},
   "outputs": [
    {
     "data": {
      "image/png": "[encoded data removed]",
      "text/plain": [
       "<Figure size 1000x600 with 1 Axes>"
      ]
     },
     "metadata": {},
     "output_type": "display_data"
    }
   ],
   "source": [
    "import pandas as pd\n",
    "import seaborn as sns\n",
    "import matplotlib.pyplot as plt\n",
    "\n",
    "df_results_all['is_yes'] = df_results_all['eval_result'].apply(\n",
    "    lambda x: x.split(\"</think>\")[-1].strip().lower().startswith(\"yes\")\n",
    ").astype(int)\n",
    "\n",
    "u_curve_df = df_results_all.groupby('position')['is_yes'].agg(['mean', 'count'])\n",
    "u_curve_df.rename(columns={'mean': 'yes_rate', 'count': 'num_samples'}, inplace=True)\n",
    "u_curve_df = u_curve_df.reset_index()\n",
    "u_curve_df['yes_rate_pct'] = u_curve_df['yes_rate'] * 100\n",
    "\n",
    "plt.figure(figsize=(10, 6))\n",
    "sns.lineplot(\n",
    "    data=u_curve_df,\n",
    "    x='position',\n",
    "    y='yes_rate_pct',\n",
    "    marker='o'\n",
    ")\n",
    "\n",
    "positions = u_curve_df['position'].unique()\n",
    "plt.xticks(positions) \n",
    "\n",
    "plt.title('U-Kurve der Yes-Quote nach Position')\n",
    "plt.xlabel('Position')\n",
    "plt.ylabel('Yes-Quote (%)')\n",
    "plt.ylim(0, 100)\n",
    "plt.grid(True)\n",
    "plt.tight_layout()\n",
    "plt.show()"
   ]
  },
  {
   "cell_type": "markdown",
   "id": "f9cb1b69",
   "metadata": {},
   "source": []
  }
 ],
 "metadata": {
  "kernelspec": {
   "display_name": "Python (.venv)",
   "language": "python",
   "name": ".venv"
  },
  "language_info": {
   "codemirror_mode": {
    "name": "ipython",
    "version": 3
   },
   "file_extension": ".py",
   "mimetype": "text/x-python",
   "name": "python",
   "nbconvert_exporter": "python",
   "pygments_lexer": "ipython3",
   "version": "3.13.1"
  }
 },
 "nbformat": 4,
 "nbformat_minor": 5
}
